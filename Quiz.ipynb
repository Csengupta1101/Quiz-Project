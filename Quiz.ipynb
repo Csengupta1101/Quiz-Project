{
 "cells": [
  {
   "cell_type": "code",
   "execution_count": 2,
   "id": "01ba698d",
   "metadata": {},
   "outputs": [
    {
     "name": "stdout",
     "output_type": "stream",
     "text": [
      "Guess the Movie\n",
      "Which movie made keenu reeves famous? matrix\n",
      "Correct Answer\n",
      "Which movie own oscar and directed by danny bowle? slumdog\n",
      "Sorry Wrong Answer, try againslumdog millionaire\n",
      "Correct Answer\n",
      "Which movie kate winslet and leonardo d caprios starred that won many oscars? the titanic\n",
      "Sorry Wrong Answer, try againtitanic\n",
      "Correct Answer\n",
      "Your Score is 3\n"
     ]
    }
   ],
   "source": [
    "def check_guess(guess, answer):\n",
    "    global score\n",
    "    still_guessing = True\n",
    "    attempt = 0\n",
    "    while still_guessing and attempt < 3:\n",
    "        if guess.lower() == answer.lower():\n",
    "            print(\"Correct Answer\")\n",
    "            score = score + 1\n",
    "            still_guessing = False\n",
    "        else:\n",
    "            if attempt < 2:\n",
    "                guess = input(\"Sorry Wrong Answer, try again\")\n",
    "            attempt = attempt + 1\n",
    "    if attempt == 3:\n",
    "        print(\"The Correct answer is \",answer )\n",
    "    \n",
    "score = 0\n",
    "print(\"Guess the Movie\")\n",
    "guess1 = input(\"Which movie made keenu reeves famous? \")\n",
    "check_guess(guess1, \"matrix\")\n",
    "guess2 = input(\"Which movie own oscar and directed by danny bowle? \")\n",
    "check_guess(guess2, \"slumdog millionaire\")\n",
    "guess3 = input(\"Which movie kate winslet and leonardo d caprios starred that won many oscars? \")\n",
    "check_guess(guess3, \"titanic\")\n",
    "print(\"Your Score is \"+ str(score))"
   ]
  },
  {
   "cell_type": "code",
   "execution_count": null,
   "id": "c8026eb2",
   "metadata": {},
   "outputs": [],
   "source": []
  }
 ],
 "metadata": {
  "kernelspec": {
   "display_name": "Python 3",
   "language": "python",
   "name": "python3"
  },
  "language_info": {
   "codemirror_mode": {
    "name": "ipython",
    "version": 3
   },
   "file_extension": ".py",
   "mimetype": "text/x-python",
   "name": "python",
   "nbconvert_exporter": "python",
   "pygments_lexer": "ipython3",
   "version": "3.6.8"
  }
 },
 "nbformat": 4,
 "nbformat_minor": 5
}
